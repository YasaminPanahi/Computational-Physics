{
 "cells": [
  {
   "cell_type": "code",
   "execution_count": 1,
   "metadata": {},
   "outputs": [],
   "source": [
    "import numpy as np\n",
    "import matplotlib.pyplot as plt\n",
    "import math\n",
    "import timeit"
   ]
  },
  {
   "cell_type": "code",
   "execution_count": 7,
   "metadata": {},
   "outputs": [],
   "source": [
    "def deterministic_census():\n",
    "    p=0.5 #walking right\n",
    "    q=1-p #walking left\n",
    "    lifetime = []\n",
    "    for i in range(1,21):\n",
    "        l=np.zeros(22)\n",
    "        death_probability=0\n",
    "        l[i]=1\n",
    "        l_prime=np.zeros(22)\n",
    "        t=1\n",
    "        mean_lifetime=0\n",
    "        while death_probability<=0.99999 :\n",
    "            for j in range(1,21):\n",
    "                l_prime[j-1]=l_prime[j-1]+l[j]*q\n",
    "                l_prime[j+1]=l_prime[j+1]+l[j]*p\n",
    "            mean_lifetime=mean_lifetime+((l_prime[0]+l_prime[21])*t)    \n",
    "            death_probability=death_probability+(l_prime[0]+l_prime[21])\n",
    "            l=l_prime\n",
    "            l[0]=0\n",
    "            l[21]=0\n",
    "            l_prime=np.zeros(22)\n",
    "            t=t+1\n",
    "        lifetime.append(mean_lifetime)\n",
    "    return lifetime"
   ]
  },
  {
   "cell_type": "code",
   "execution_count": 8,
   "metadata": {},
   "outputs": [
    {
     "name": "stdout",
     "output_type": "stream",
     "text": [
      "creation time : 0.5576720999997633\n"
     ]
    }
   ],
   "source": [
    "start=timeit.default_timer()\n",
    "life=deterministic_census()\n",
    "stop=timeit.default_timer()\n",
    "print('creation time :',stop-start) "
   ]
  },
  {
   "cell_type": "code",
   "execution_count": 9,
   "metadata": {},
   "outputs": [
    {
     "data": {
      "text/plain": [
       "Text(0, 0.5, 'mean lifetime')"
      ]
     },
     "execution_count": 9,
     "metadata": {},
     "output_type": "execute_result"
    },
    {
     "data": {
      "image/png": "[encoded data removed]",
      "text/plain": [
       "<Figure size 576x432 with 1 Axes>"
      ]
     },
     "metadata": {
      "needs_background": "light"
     },
     "output_type": "display_data"
    }
   ],
   "source": [
    "L=[0,1,2,3,4,5,6,7,8,9,10,11,12,13,14,15,16,17,18,19]\n",
    "fig = plt.figure(figsize=(8,6))\n",
    "plt.plot(L,life,'.')\n",
    "plt.title('one dimensional random walk')\n",
    "plt.xlabel('start point')\n",
    "plt.ylabel('mean lifetime')"
   ]
  },
  {
   "cell_type": "code",
   "execution_count": null,
   "metadata": {},
   "outputs": [],
   "source": []
  }
 ],
 "metadata": {
  "kernelspec": {
   "display_name": "Python 3",
   "language": "python",
   "name": "python3"
  },
  "language_info": {
   "codemirror_mode": {
    "name": "ipython",
    "version": 3
   },
   "file_extension": ".py",
   "mimetype": "text/x-python",
   "name": "python",
   "nbconvert_exporter": "python",
   "pygments_lexer": "ipython3",
   "version": "3.8.3"
  }
 },
 "nbformat": 4,
 "nbformat_minor": 4
}
