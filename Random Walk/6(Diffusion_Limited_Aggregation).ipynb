{
 "cells": [
  {
   "cell_type": "code",
   "execution_count": 18,
   "metadata": {},
   "outputs": [],
   "source": [
    "import numpy as np\n",
    "import matplotlib.pyplot as plt\n",
    "import math\n",
    "import timeit"
   ]
  },
  {
   "cell_type": "code",
   "execution_count": 33,
   "metadata": {},
   "outputs": [],
   "source": [
    "def Diffusion_Limited_Aggregation():\n",
    "    #assuming p = 0.5\n",
    "    L = 200\n",
    "    H = 500\n",
    "    t = 10000\n",
    "    color = t/5\n",
    "    N = t/color\n",
    "    l = 1\n",
    "    lattice = np.zeros(L,H)\n",
    "    height = np.zeros(L)\n",
    "    \n",
    "    for i in range(L):\n",
    "        lattice[i][0] = 1\n",
    "        height[i] = 1\n",
    "    c = 0    \n",
    "    for i in range (int(N)):\n",
    "        for j in range(int(color)):\n",
    "            y_start = int(max(height)+20)\n",
    "            x_start = np.random.randint(200)\n",
    "            y=int(y_start)\n",
    "            x=int(x_start)\n",
    "            buffer_length=int(max(height)+50)\n",
    "            while (1):\n",
    "                horizontal = np.random.rand()\n",
    "                if (horizontal <= 0.5): #assuming p = 0.5 (horizontal direction)\n",
    "                    x=(x+l)%L\n",
    "                    if(lattice[(x-1)%L][y]!=0 or lattice[(x+1)%L][y]!=0 or lattice[x][y-1]!=0 or lattice[x][y+1]!=0):\n",
    "                        lattice[x][y]=i+1\n",
    "                        for h in range(H):\n",
    "                            if(lattice[x][H-1-h]!=0):\n",
    "                                height[x]=H-1-h\n",
    "                                break\n",
    "                        break\n",
    "                else:\n",
    "                    x=(x-l)%L\n",
    "                    if(lattice[(x-1)%L][y]!=0 or lattice[(x+1)%L][y]!=0 or lattice[x][y-1]!=0 or lattice[x][y+1]!=0):\n",
    "                        lattice[x][y]=i+1\n",
    "                        for h in range(H):\n",
    "                            if(lattice[x][H-1-h]!=0):\n",
    "                                height[x]=H-1-h\n",
    "                                break\n",
    "                        break\n",
    "                vertical = np.random.rand()\n",
    "                if (vertical<= 0.5): #assuming p = 0.5 (vertical direction)\n",
    "                    y=y+l\n",
    "                    if(y >= buffer_length):\n",
    "                        break #we won't work with this walker anymore\n",
    "                    if(lattice[(x-1)%L][y]!=0 or lattice[(x+1)%L][y]!=0 or lattice[x][y-1]!=0 or lattice[x][y+1]!=0):\n",
    "                        lattice[x][y]=i+1\n",
    "                        for h in range(H):\n",
    "                            if(lattice[x][H-1-h]!=0):\n",
    "                                height[x]=H-1-h\n",
    "                                break\n",
    "                        break        \n",
    "                else:\n",
    "                    y=y-l\n",
    "                    if(y >= buffer_length):\n",
    "                        break #we won't work with this walker anymore\n",
    "                    if(lattice[(x-1)%L][y]!=0 or lattice[(x+1)%L][y]!=0 or lattice[x][y-1]!=0 or lattice[x][y+1]!=0):\n",
    "                        lattice[x][y]=i+1\n",
    "                        for h in range(H):\n",
    "                            if(lattice[x][H-1-h]!=0):\n",
    "                                height[x]=H-1-h\n",
    "                                break\n",
    "                        break\n",
    "            c = c + 1            \n",
    "    return lattice.transpose()       \n",
    "    "
   ]
  },
  {
   "cell_type": "code",
   "execution_count": 34,
   "metadata": {},
   "outputs": [
    {
     "name": "stdout",
     "output_type": "stream",
     "text": [
      "creation time : 179.80614240000432\n"
     ]
    }
   ],
   "source": [
    "start=timeit.default_timer()\n",
    "t=10000\n",
    "n=t/5\n",
    "l=Diffusion_Limited_Aggregation()\n",
    "stop=timeit.default_timer()\n",
    "print('creation time :',stop-start) "
   ]
  },
  {
   "cell_type": "code",
   "execution_count": 46,
   "metadata": {},
   "outputs": [
    {
     "data": {
      "text/plain": [
       "(-0.5, 199.5, -0.5, 499.5)"
      ]
     },
     "execution_count": 46,
     "metadata": {},
     "output_type": "execute_result"
    },
    {
     "data": {
      "image/png": "[encoded data removed]",
      "text/plain": [
       "<Figure size 1440x1440 with 1 Axes>"
      ]
     },
     "metadata": {
      "needs_background": "light"
     },
     "output_type": "display_data"
    }
   ],
   "source": [
    "fig=plt.figure(figsize=(20,20))\n",
    "plt.imshow(l,cmap ='jet',interpolation = 'nearest', origin = 'lower')   \n",
    "#plt.axis('equal')\n",
    "plt.axis('off')"
   ]
  },
  {
   "cell_type": "code",
   "execution_count": null,
   "metadata": {},
   "outputs": [],
   "source": []
  }
 ],
 "metadata": {
  "kernelspec": {
   "display_name": "Python 3",
   "language": "python",
   "name": "python3"
  },
  "language_info": {
   "codemirror_mode": {
    "name": "ipython",
    "version": 3
   },
   "file_extension": ".py",
   "mimetype": "text/x-python",
   "name": "python",
   "nbconvert_exporter": "python",
   "pygments_lexer": "ipython3",
   "version": "3.8.3"
  }
 },
 "nbformat": 4,
 "nbformat_minor": 4
}
