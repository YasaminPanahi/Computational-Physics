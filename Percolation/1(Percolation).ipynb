{
 "cells": [
  {
   "cell_type": "code",
   "execution_count": 4,
   "metadata": {},
   "outputs": [],
   "source": [
    "import numpy as np\n",
    "import matplotlib.pyplot as plt\n",
    "import timeit"
   ]
  },
  {
   "cell_type": "code",
   "execution_count": 14,
   "metadata": {},
   "outputs": [
    {
     "name": "stdout",
     "output_type": "stream",
     "text": [
      "Please Enter Your Intended Length :50\n",
      "Please Enter Your Intended Probability :0.7\n",
      "creation time : 3.8590903999975126\n"
     ]
    },
    {
     "data": {
      "image/png": "[encoded data removed]",
      "text/plain": [
       "<Figure size 360x360 with 1 Axes>"
      ]
     },
     "metadata": {
      "needs_background": "light"
     },
     "output_type": "display_data"
    }
   ],
   "source": [
    "start=timeit.default_timer()\n",
    "l=int(input('Please Enter Your Intended Length :'))\n",
    "p=float(input('Please Enter Your Intended Probability :'))\n",
    "Lattice=np.zeros((l,l))\n",
    "for i in range(l):\n",
    "    for j in range(l):\n",
    "        Lattice[i][j] = np.random.rand()\n",
    "        if Lattice[i][j] < p:\n",
    "            Lattice[i][j]= 1 #on = blue\n",
    "        else:\n",
    "            Lattice[i][j]= 0 #off = red\n",
    "            \n",
    "fig = plt.figure(figsize=(5,5))\n",
    "plt.imshow(Lattice,cmap='jet')\n",
    "plt.axis('off')\n",
    "stop=timeit.default_timer()\n",
    "print('creation time :',stop-start)  "
   ]
  },
  {
   "cell_type": "code",
   "execution_count": null,
   "metadata": {},
   "outputs": [],
   "source": []
  }
 ],
 "metadata": {
  "kernelspec": {
   "display_name": "Python 3",
   "language": "python",
   "name": "python3"
  },
  "language_info": {
   "codemirror_mode": {
    "name": "ipython",
    "version": 3
   },
   "file_extension": ".py",
   "mimetype": "text/x-python",
   "name": "python",
   "nbconvert_exporter": "python",
   "pygments_lexer": "ipython3",
   "version": "3.8.3"
  }
 },
 "nbformat": 4,
 "nbformat_minor": 4
}
