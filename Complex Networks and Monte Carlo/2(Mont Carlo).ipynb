{
 "cells": [
  {
   "cell_type": "code",
   "execution_count": 1,
   "metadata": {},
   "outputs": [],
   "source": [
    "import numpy as np\n",
    "import matplotlib.pyplot as plt\n",
    "import math\n",
    "import timeit"
   ]
  },
  {
   "cell_type": "code",
   "execution_count": 2,
   "metadata": {},
   "outputs": [],
   "source": [
    "def f(a):\n",
    "    ans=[]\n",
    "    for x in a :\n",
    "        ans.append(math.exp(-(x**2)))\n",
    "    return ans"
   ]
  },
  {
   "cell_type": "code",
   "execution_count": 4,
   "metadata": {},
   "outputs": [],
   "source": [
    "def g(a):\n",
    "    ans=[]\n",
    "    for x in a:\n",
    "        ans.append(math.exp(-x))\n",
    "    return ans    "
   ]
  },
  {
   "cell_type": "code",
   "execution_count": 5,
   "metadata": {},
   "outputs": [],
   "source": [
    "def y(a):\n",
    "    ans=[]\n",
    "    for x in a :\n",
    "        ans.append(np.log((x)**-1)) \n",
    "    return ans"
   ]
  },
  {
   "cell_type": "code",
   "execution_count": 6,
   "metadata": {},
   "outputs": [
    {
     "name": "stdout",
     "output_type": "stream",
     "text": [
      "Integral is : 0.8822079667431464 Error is : 0.00010899274825123276\n",
      "creation time:  7.272799099999929\n"
     ]
    }
   ],
   "source": [
    "# simple sampling for n=10000000\n",
    "start = timeit.default_timer()\n",
    "n=10000000\n",
    "a=np.random.uniform(0,2,n)\n",
    "ans=np.array(f(a))\n",
    "f_mean=np.mean(ans)\n",
    "I=f_mean*2\n",
    "delta=np.sqrt(np.var(np.array(ans))/n)\n",
    "stop = timeit.default_timer()\n",
    "print('Integral is :',I,'Error is :',delta)\n",
    "print('creation time: ', stop - start)  "
   ]
  },
  {
   "cell_type": "code",
   "execution_count": 7,
   "metadata": {},
   "outputs": [
    {
     "name": "stdout",
     "output_type": "stream",
     "text": [
      "Integral is : 0.8821033175508849  Error is : 9.72704967368451e-05\n",
      "creation time:  28.473432300000013\n"
     ]
    }
   ],
   "source": [
    "# samrt sampling for n=10000000\n",
    "start = timeit.default_timer()\n",
    "n=10000000\n",
    "f_g=[]\n",
    "a=np.random.uniform(math.exp(-2),1,n)\n",
    "ans1=y(a)\n",
    "ans2=f(ans1)\n",
    "ans3=g(ans1)\n",
    "for j in range(len(ans1)):\n",
    "    f_g.append(ans2[j]/ans3[j]) \n",
    "f_g_mean=np.mean(np.array(f_g))\n",
    "I=f_g_mean*(1-math.exp(-2))\n",
    "delta=np.sqrt(np.var(np.array(f_g))/n)\n",
    "stop = timeit.default_timer()\n",
    "print('Integral is :',I,' Error is :',delta)\n",
    "print('creation time: ', stop - start) "
   ]
  },
  {
   "cell_type": "code",
   "execution_count": 8,
   "metadata": {},
   "outputs": [
    {
     "name": "stdout",
     "output_type": "stream",
     "text": [
      "Integral is : 0.8812132466363359 Error is : 0.00034457393180124406\n",
      "creation time:  0.7712151000000631\n"
     ]
    }
   ],
   "source": [
    "# simple sampling for n=1,000,000\n",
    "start = timeit.default_timer()\n",
    "n=1000000\n",
    "a=np.random.uniform(0,2,n)\n",
    "ans=np.array(f(a))\n",
    "f_mean=np.mean(ans)\n",
    "I=f_mean*2\n",
    "delta=np.sqrt(np.var(np.array(ans))/n)\n",
    "stop = timeit.default_timer()\n",
    "print('Integral is :',I,'Error is :',delta)\n",
    "print('creation time: ', stop - start)  "
   ]
  },
  {
   "cell_type": "code",
   "execution_count": 9,
   "metadata": {},
   "outputs": [
    {
     "name": "stdout",
     "output_type": "stream",
     "text": [
      "Integral is : 0.8817707712680987  Error is : 0.00030771671936717166\n",
      "creation time:  3.7693369999999504\n"
     ]
    }
   ],
   "source": [
    "# samrt sampling for n=1,000,000\n",
    "start = timeit.default_timer()\n",
    "n=1000000\n",
    "f_g=[]\n",
    "a=np.random.uniform(math.exp(-2),1,n)\n",
    "ans1=y(a)\n",
    "ans2=f(ans1)\n",
    "ans3=g(ans1)\n",
    "for j in range(len(ans1)):\n",
    "    f_g.append(ans2[j]/ans3[j]) \n",
    "f_g_mean=np.mean(np.array(f_g))\n",
    "I=f_g_mean*(1-math.exp(-2))\n",
    "delta=np.sqrt(np.var(np.array(f_g))/n)\n",
    "stop = timeit.default_timer()\n",
    "print('Integral is :',I,' Error is :',delta)\n",
    "print('creation time: ', stop - start)  "
   ]
  },
  {
   "cell_type": "code",
   "execution_count": 10,
   "metadata": {},
   "outputs": [
    {
     "name": "stdout",
     "output_type": "stream",
     "text": [
      "Integral is : 0.8826073901388738 Error is : 0.001091707752553511\n",
      "creation time:  0.07474769999998898\n"
     ]
    }
   ],
   "source": [
    "# simple sampling for n=100,000\n",
    "start = timeit.default_timer()\n",
    "n=100000\n",
    "a=np.random.uniform(0,2,n)\n",
    "ans=np.array(f(a))\n",
    "f_mean=np.mean(ans)\n",
    "I=f_mean*2\n",
    "delta=np.sqrt(np.var(np.array(ans))/n)\n",
    "stop = timeit.default_timer()\n",
    "print('Integral is :',I,'Error is :',delta)\n",
    "print('creation time: ', stop - start)  "
   ]
  },
  {
   "cell_type": "code",
   "execution_count": 11,
   "metadata": {},
   "outputs": [
    {
     "name": "stdout",
     "output_type": "stream",
     "text": [
      "Integral is : 0.882647395472918  Error is : 0.000970312235312379\n",
      "creation time:  0.3562224999998307\n"
     ]
    }
   ],
   "source": [
    "# samrt sampling for n=100,000\n",
    "start = timeit.default_timer()\n",
    "n=100000\n",
    "f_g=[]\n",
    "a=np.random.uniform(math.exp(-2),1,n)\n",
    "ans1=y(a)\n",
    "ans2=f(ans1)\n",
    "ans3=g(ans1)\n",
    "for j in range(len(ans1)):\n",
    "    f_g.append(ans2[j]/ans3[j]) \n",
    "f_g_mean=np.mean(np.array(f_g))\n",
    "I=f_g_mean*(1-math.exp(-2))\n",
    "delta=np.sqrt(np.var(np.array(f_g))/n)\n",
    "stop = timeit.default_timer()\n",
    "print('Integral is :',I,' Error is :',delta)\n",
    "print('creation time: ', stop - start)  "
   ]
  },
  {
   "cell_type": "code",
   "execution_count": 12,
   "metadata": {},
   "outputs": [
    {
     "name": "stdout",
     "output_type": "stream",
     "text": [
      "Integral is : 0.8832757635142827 Error is : 0.003469173390320891\n",
      "creation time:  0.008597300000019459\n"
     ]
    }
   ],
   "source": [
    "# simple sampling for n=10000\n",
    "start = timeit.default_timer()\n",
    "n=10000\n",
    "a=np.random.uniform(0,2,n)\n",
    "ans=np.array(f(a))\n",
    "f_mean=np.mean(ans)\n",
    "I=f_mean*2\n",
    "delta=np.sqrt(np.var(np.array(ans))/n)\n",
    "stop = timeit.default_timer()\n",
    "print('Integral is :',I,'Error is :',delta)\n",
    "print('creation time: ', stop - start)"
   ]
  },
  {
   "cell_type": "code",
   "execution_count": 13,
   "metadata": {},
   "outputs": [
    {
     "name": "stdout",
     "output_type": "stream",
     "text": [
      "Integral is : 0.8835731609209299  Error is : 0.003066458491362558\n",
      "creation time:  0.04226870000002236\n"
     ]
    }
   ],
   "source": [
    "# samrt sampling for n=10000\n",
    "start = timeit.default_timer()\n",
    "n=10000\n",
    "f_g=[]\n",
    "a=np.random.uniform(math.exp(-2),1,n)\n",
    "ans1=y(a)\n",
    "ans2=f(ans1)\n",
    "ans3=g(ans1)\n",
    "for j in range(len(ans1)):\n",
    "    f_g.append(ans2[j]/ans3[j]) \n",
    "f_g_mean=np.mean(np.array(f_g))\n",
    "I=f_g_mean*(1-math.exp(-2))\n",
    "delta=np.sqrt(np.var(np.array(f_g))/n)\n",
    "stop = timeit.default_timer()\n",
    "print('Integral is :',I,' Error is :',delta)\n",
    "print('creation time: ', stop - start)  "
   ]
  },
  {
   "cell_type": "code",
   "execution_count": 14,
   "metadata": {},
   "outputs": [
    {
     "name": "stdout",
     "output_type": "stream",
     "text": [
      "Integral is : 0.8710854539895357 Error is : 0.01110829519382882\n",
      "creation time:  0.0010868000001664768\n"
     ]
    }
   ],
   "source": [
    "# simple sampling for n=1000\n",
    "start = timeit.default_timer()\n",
    "n=1000\n",
    "a=np.random.uniform(0,2,n)\n",
    "ans=np.array(f(a))\n",
    "f_mean=np.mean(ans)\n",
    "I=f_mean*2\n",
    "delta=np.sqrt(np.var(np.array(ans))/n)\n",
    "stop = timeit.default_timer()\n",
    "print('Integral is :',I,'Error is :',delta)\n",
    "print('creation time: ', stop - start)"
   ]
  },
  {
   "cell_type": "code",
   "execution_count": 15,
   "metadata": {},
   "outputs": [
    {
     "name": "stdout",
     "output_type": "stream",
     "text": [
      "Integral is : 0.893323108677646  Error is : 0.009496939790051779\n",
      "creation time:  0.0038849000000027445\n"
     ]
    }
   ],
   "source": [
    "# samrt sampling for n=1000\n",
    "start = timeit.default_timer()\n",
    "n=1000\n",
    "f_g=[]\n",
    "a=np.random.uniform(math.exp(-2),1,n)\n",
    "ans1=y(a)\n",
    "ans2=f(ans1)\n",
    "ans3=g(ans1)\n",
    "for j in range(len(ans1)):\n",
    "    f_g.append(ans2[j]/ans3[j]) \n",
    "f_g_mean=np.mean(np.array(f_g))\n",
    "I=f_g_mean*(1-math.exp(-2))\n",
    "delta=np.sqrt(np.var(np.array(f_g))/n)\n",
    "stop = timeit.default_timer()\n",
    "print('Integral is :',I,' Error is :',delta)\n",
    "print('creation time: ', stop - start)  "
   ]
  },
  {
   "cell_type": "code",
   "execution_count": 18,
   "metadata": {},
   "outputs": [
    {
     "name": "stdout",
     "output_type": "stream",
     "text": [
      "Integral is : 0.9988448917881173 Error is : 0.03380098179246679\n",
      "creation time:  0.00041749999991225195\n"
     ]
    }
   ],
   "source": [
    "# simple sampling for n=100\n",
    "start = timeit.default_timer()\n",
    "n=100\n",
    "a=np.random.uniform(0,2,n)\n",
    "ans=np.array(f(a))\n",
    "f_mean=np.mean(ans)\n",
    "I=f_mean*2\n",
    "delta=np.sqrt(np.var(np.array(ans))/n)\n",
    "stop = timeit.default_timer()\n",
    "print('Integral is :',I,'Error is :',delta)\n",
    "print('creation time: ', stop - start)"
   ]
  },
  {
   "cell_type": "code",
   "execution_count": 19,
   "metadata": {},
   "outputs": [
    {
     "name": "stdout",
     "output_type": "stream",
     "text": [
      "Integral is : 0.8632439671984384  Error is : 0.03097357887750161\n",
      "creation time:  0.0007872000001043489\n"
     ]
    }
   ],
   "source": [
    "# samrt sampling for n=100\n",
    "start = timeit.default_timer()\n",
    "n=100\n",
    "f_g=[]\n",
    "a=np.random.uniform(math.exp(-2),1,n)\n",
    "ans1=y(a)\n",
    "ans2=f(ans1)\n",
    "ans3=g(ans1)\n",
    "for j in range(len(ans1)):\n",
    "    f_g.append(ans2[j]/ans3[j]) \n",
    "f_g_mean=np.mean(np.array(f_g))\n",
    "I=f_g_mean*(1-math.exp(-2))\n",
    "delta=np.sqrt(np.var(np.array(f_g))/n)\n",
    "stop = timeit.default_timer()\n",
    "print('Integral is :',I,' Error is :',delta)\n",
    "print('creation time: ', stop - start) "
   ]
  },
  {
   "cell_type": "code",
   "execution_count": 26,
   "metadata": {},
   "outputs": [
    {
     "name": "stdout",
     "output_type": "stream",
     "text": [
      "Integral is : 0.6690661066821206 Error is : 0.11521286227569866\n",
      "creation time:  0.00044959999991078803\n"
     ]
    }
   ],
   "source": [
    "# simple sampling for n=10\n",
    "start = timeit.default_timer()\n",
    "n=10\n",
    "a=np.random.uniform(0,2,n)\n",
    "ans=np.array(f(a))\n",
    "f_mean=np.mean(ans)\n",
    "I=f_mean*2\n",
    "delta=np.sqrt(np.var(np.array(ans))/n)\n",
    "stop = timeit.default_timer()\n",
    "print('Integral is :',I,'Error is :',delta)\n",
    "print('creation time: ', stop - start)"
   ]
  },
  {
   "cell_type": "code",
   "execution_count": 27,
   "metadata": {},
   "outputs": [
    {
     "name": "stdout",
     "output_type": "stream",
     "text": [
      "Integral is : 0.8016211793818836  Error is : 0.08944959243049837\n",
      "creation time:  0.00044859999979962595\n"
     ]
    }
   ],
   "source": [
    "# samrt sampling for n=10\n",
    "start = timeit.default_timer()\n",
    "n=10\n",
    "f_g=[]\n",
    "a=np.random.uniform(math.exp(-2),1,n)\n",
    "ans1=y(a)\n",
    "ans2=f(ans1)\n",
    "ans3=g(ans1)\n",
    "for j in range(len(ans1)):\n",
    "    f_g.append(ans2[j]/ans3[j]) \n",
    "f_g_mean=np.mean(np.array(f_g))\n",
    "I=f_g_mean*(1-math.exp(-2))\n",
    "delta=np.sqrt(np.var(np.array(f_g))/n)\n",
    "stop = timeit.default_timer()\n",
    "print('Integral is :',I,' Error is :',delta)\n",
    "print('creation time: ', stop - start)  "
   ]
  },
  {
   "cell_type": "code",
   "execution_count": 39,
   "metadata": {},
   "outputs": [],
   "source": [
    "#Bonus part\n",
    "def g2(a):\n",
    "    ans2=[]\n",
    "    for x in a:\n",
    "        ans2.append(math.cos(x*math.pi/4))\n",
    "    return ans2  "
   ]
  },
  {
   "cell_type": "code",
   "execution_count": 40,
   "metadata": {},
   "outputs": [],
   "source": [
    "def y2(a):\n",
    "    ans2=[]\n",
    "    for x in a :\n",
    "        ans2.append(math.asin(x)*4/math.pi)\n",
    "    return ans2"
   ]
  },
  {
   "cell_type": "code",
   "execution_count": 41,
   "metadata": {},
   "outputs": [
    {
     "name": "stdout",
     "output_type": "stream",
     "text": [
      "Integral is : 0.822313359991628  Error is : 7.566075901832964e-05\n",
      "creation time:  13.031618200002413\n"
     ]
    }
   ],
   "source": [
    "# samrt sampling for n=10000000 with g2\n",
    "start = timeit.default_timer()\n",
    "n=10000000\n",
    "f_g2=[]\n",
    "a2=np.random.uniform(math.exp(-2),1,n)\n",
    "ans21=y2(a2)\n",
    "ans22=f(ans21)\n",
    "ans23=g2(ans21)\n",
    "for j in range(len(ans21)):\n",
    "    f_g2.append(ans22[j]/ans23[j]) \n",
    "f_g2_mean=np.mean(np.array(f_g2))\n",
    "I2=f_g2_mean*(4/math.pi)\n",
    "delta2=np.sqrt(np.var(np.array(f_g2))/n)\n",
    "stop = timeit.default_timer()\n",
    "print('Integral is :',I2,' Error is :',delta2)\n",
    "print('creation time: ', stop - start)  "
   ]
  },
  {
   "cell_type": "code",
   "execution_count": 42,
   "metadata": {},
   "outputs": [
    {
     "name": "stdout",
     "output_type": "stream",
     "text": [
      "Integral is : 0.8222066814953877  Error is : 0.0002400827880610651\n",
      "creation time:  1.8133534000007785\n"
     ]
    }
   ],
   "source": [
    "# samrt sampling for n=1000000 with g2\n",
    "start = timeit.default_timer()\n",
    "n=1000000\n",
    "f_g2=[]\n",
    "a2=np.random.uniform(math.exp(-2),1,n)\n",
    "ans21=y2(a2)\n",
    "ans22=f(ans21)\n",
    "ans23=g2(ans21)\n",
    "for j in range(len(ans21)):\n",
    "    f_g2.append(ans22[j]/ans23[j]) \n",
    "f_g2_mean=np.mean(np.array(f_g2))\n",
    "I2=f_g2_mean*(4/math.pi)\n",
    "delta2=np.sqrt(np.var(np.array(f_g2))/n)\n",
    "stop = timeit.default_timer()\n",
    "print('Integral is :',I2,' Error is :',delta2)\n",
    "print('creation time: ', stop - start) "
   ]
  },
  {
   "cell_type": "code",
   "execution_count": 43,
   "metadata": {},
   "outputs": [
    {
     "name": "stdout",
     "output_type": "stream",
     "text": [
      "Integral is : 0.8217374181122785  Error is : 0.0006154589490273153\n",
      "creation time:  0.24187650000021677\n"
     ]
    }
   ],
   "source": [
    "# samrt sampling for n=150000 with g2\n",
    "start = timeit.default_timer()\n",
    "n=150000\n",
    "f_g2=[]\n",
    "a2=np.random.uniform(math.exp(-2),1,n)\n",
    "ans21=y2(a2)\n",
    "ans22=f(ans21)\n",
    "ans23=g2(ans21)\n",
    "for j in range(len(ans21)):\n",
    "    f_g2.append(ans22[j]/ans23[j]) \n",
    "f_g2_mean=np.mean(np.array(f_g2))\n",
    "I2=f_g2_mean*(4/math.pi)\n",
    "delta2=np.sqrt(np.var(np.array(f_g2))/n)\n",
    "stop = timeit.default_timer()\n",
    "print('Integral is :',I2,' Error is :',delta2)\n",
    "print('creation time: ', stop - start)"
   ]
  },
  {
   "cell_type": "code",
   "execution_count": 44,
   "metadata": {},
   "outputs": [
    {
     "name": "stdout",
     "output_type": "stream",
     "text": [
      "Integral is : 0.822236838059377  Error is : 0.0007525485986120588\n",
      "creation time:  0.13184910000200034\n"
     ]
    }
   ],
   "source": [
    "# samrt sampling for n=100000 with g2\n",
    "start = timeit.default_timer()\n",
    "n=100000\n",
    "f_g2=[]\n",
    "a2=np.random.uniform(math.exp(-2),1,n)\n",
    "ans21=y2(a2)\n",
    "ans22=f(ans21)\n",
    "ans23=g2(ans21)\n",
    "for j in range(len(ans21)):\n",
    "    f_g2.append(ans22[j]/ans23[j]) \n",
    "f_g2_mean=np.mean(np.array(f_g2))\n",
    "I2=f_g2_mean*(4/math.pi)\n",
    "delta2=np.sqrt(np.var(np.array(f_g2))/n)\n",
    "stop = timeit.default_timer()\n",
    "print('Integral is :',I2,' Error is :',delta2)\n",
    "print('creation time: ', stop - start) "
   ]
  },
  {
   "cell_type": "code",
   "execution_count": 45,
   "metadata": {},
   "outputs": [
    {
     "name": "stdout",
     "output_type": "stream",
     "text": [
      "Integral is : 0.8206308339057281  Error is : 0.001063268353062517\n",
      "creation time:  0.07245079999847803\n"
     ]
    }
   ],
   "source": [
    "# samrt sampling for n=50000 with g2\n",
    "start = timeit.default_timer()\n",
    "n=50000\n",
    "f_g2=[]\n",
    "a2=np.random.uniform(math.exp(-2),1,n)\n",
    "ans21=y2(a2)\n",
    "ans22=f(ans21)\n",
    "ans23=g2(ans21)\n",
    "for j in range(len(ans21)):\n",
    "    f_g2.append(ans22[j]/ans23[j]) \n",
    "f_g2_mean=np.mean(np.array(f_g2))\n",
    "I2=f_g2_mean*(4/math.pi)\n",
    "delta2=np.sqrt(np.var(np.array(f_g2))/n)\n",
    "stop = timeit.default_timer()\n",
    "print('Integral is :',I2,' Error is :',delta2)\n",
    "print('creation time: ', stop - start)"
   ]
  },
  {
   "cell_type": "code",
   "execution_count": 46,
   "metadata": {},
   "outputs": [
    {
     "name": "stdout",
     "output_type": "stream",
     "text": [
      "Integral is : 0.8206098675153624  Error is : 0.0023813334314972453\n",
      "creation time:  0.021164599998883205\n"
     ]
    }
   ],
   "source": [
    "# samrt sampling for n=10000 with g2\n",
    "start = timeit.default_timer()\n",
    "n=10000\n",
    "f_g2=[]\n",
    "a2=np.random.uniform(math.exp(-2),1,n)\n",
    "ans21=y2(a2)\n",
    "ans22=f(ans21)\n",
    "ans23=g2(ans21)\n",
    "for j in range(len(ans21)):\n",
    "    f_g2.append(ans22[j]/ans23[j]) \n",
    "f_g2_mean=np.mean(np.array(f_g2))\n",
    "I2=f_g2_mean*(4/math.pi)\n",
    "delta2=np.sqrt(np.var(np.array(f_g2))/n)\n",
    "stop = timeit.default_timer()\n",
    "print('Integral is :',I2,' Error is :',delta2)\n",
    "print('creation time: ', stop - start)"
   ]
  },
  {
   "cell_type": "code",
   "execution_count": 47,
   "metadata": {},
   "outputs": [
    {
     "name": "stdout",
     "output_type": "stream",
     "text": [
      "Integral is : 0.8093361523619714  Error is : 0.007523323994964348\n",
      "creation time:  0.0024094000000332016\n"
     ]
    }
   ],
   "source": [
    "# samrt sampling for n=1000 with g2\n",
    "start = timeit.default_timer()\n",
    "n=1000\n",
    "f_g2=[]\n",
    "a2=np.random.uniform(math.exp(-2),1,n)\n",
    "ans21=y2(a2)\n",
    "ans22=f(ans21)\n",
    "ans23=g2(ans21)\n",
    "for j in range(len(ans21)):\n",
    "    f_g2.append(ans22[j]/ans23[j]) \n",
    "f_g2_mean=np.mean(np.array(f_g2))\n",
    "I2=f_g2_mean*(4/math.pi)\n",
    "delta2=np.sqrt(np.var(np.array(f_g2))/n)\n",
    "stop = timeit.default_timer()\n",
    "print('Integral is :',I2,' Error is :',delta2)\n",
    "print('creation time: ', stop - start)"
   ]
  },
  {
   "cell_type": "code",
   "execution_count": 48,
   "metadata": {},
   "outputs": [
    {
     "name": "stdout",
     "output_type": "stream",
     "text": [
      "Integral is : 0.8216564666071213  Error is : 0.0003380225418856237\n",
      "creation time:  0.6498905000007653\n"
     ]
    }
   ],
   "source": [
    "# samrt sampling for n=500000 with g2\n",
    "start = timeit.default_timer()\n",
    "n=500000\n",
    "f_g2=[]\n",
    "a2=np.random.uniform(math.exp(-2),1,n)\n",
    "ans21=y2(a2)\n",
    "ans22=f(ans21)\n",
    "ans23=g2(ans21)\n",
    "for j in range(len(ans21)):\n",
    "    f_g2.append(ans22[j]/ans23[j]) \n",
    "f_g2_mean=np.mean(np.array(f_g2))\n",
    "I2=f_g2_mean*(4/math.pi)\n",
    "delta2=np.sqrt(np.var(np.array(f_g2))/n)\n",
    "stop = timeit.default_timer()\n",
    "print('Integral is :',I2,' Error is :',delta2)\n",
    "print('creation time: ', stop - start)"
   ]
  },
  {
   "cell_type": "code",
   "execution_count": 49,
   "metadata": {},
   "outputs": [
    {
     "name": "stdout",
     "output_type": "stream",
     "text": [
      "Integral is : 0.8532805032713463  Error is : 0.024047530482251684\n",
      "creation time:  0.0332827999991423\n"
     ]
    }
   ],
   "source": [
    "# samrt sampling for n=100 with g2\n",
    "start = timeit.default_timer()\n",
    "n=100\n",
    "f_g2=[]\n",
    "a2=np.random.uniform(math.exp(-2),1,n)\n",
    "ans21=y2(a2)\n",
    "ans22=f(ans21)\n",
    "ans23=g2(ans21)\n",
    "for j in range(len(ans21)):\n",
    "    f_g2.append(ans22[j]/ans23[j]) \n",
    "f_g2_mean=np.mean(np.array(f_g2))\n",
    "I2=f_g2_mean*(4/math.pi)\n",
    "delta2=np.sqrt(np.var(np.array(f_g2))/n)\n",
    "stop = timeit.default_timer()\n",
    "print('Integral is :',I2,' Error is :',delta2)\n",
    "print('creation time: ', stop - start)"
   ]
  },
  {
   "cell_type": "code",
   "execution_count": 50,
   "metadata": {},
   "outputs": [
    {
     "name": "stdout",
     "output_type": "stream",
     "text": [
      "Integral is : 0.5959293768941603  Error is : 0.05565026426580152\n",
      "creation time:  0.0008143999984895345\n"
     ]
    }
   ],
   "source": [
    "# samrt sampling for n=10 with g2\n",
    "start = timeit.default_timer()\n",
    "n=10\n",
    "f_g2=[]\n",
    "a2=np.random.uniform(math.exp(-2),1,n)\n",
    "ans21=y2(a2)\n",
    "ans22=f(ans21)\n",
    "ans23=g2(ans21)\n",
    "for j in range(len(ans21)):\n",
    "    f_g2.append(ans22[j]/ans23[j]) \n",
    "f_g2_mean=np.mean(np.array(f_g2))\n",
    "I2=f_g2_mean*(4/math.pi)\n",
    "delta2=np.sqrt(np.var(np.array(f_g2))/n)\n",
    "stop = timeit.default_timer()\n",
    "print('Integral is :',I2,' Error is :',delta2)\n",
    "print('creation time: ', stop - start)"
   ]
  },
  {
   "cell_type": "code",
   "execution_count": null,
   "metadata": {},
   "outputs": [],
   "source": []
  }
 ],
 "metadata": {
  "kernelspec": {
   "display_name": "Python 3",
   "language": "python",
   "name": "python3"
  },
  "language_info": {
   "codemirror_mode": {
    "name": "ipython",
    "version": 3
   },
   "file_extension": ".py",
   "mimetype": "text/x-python",
   "name": "python",
   "nbconvert_exporter": "python",
   "pygments_lexer": "ipython3",
   "version": "3.8.3"
  }
 },
 "nbformat": 4,
 "nbformat_minor": 4
}
