{
 "cells": [
  {
   "cell_type": "code",
   "execution_count": 1,
   "metadata": {},
   "outputs": [],
   "source": [
    "import numpy as np\n",
    "import matplotlib.pyplot as plt\n",
    "import timeit\n",
    "import math"
   ]
  },
  {
   "cell_type": "code",
   "execution_count": 2,
   "metadata": {},
   "outputs": [],
   "source": [
    "def teta_1(a):\n",
    "    ans=[]\n",
    "    for x in a :\n",
    "        ans.append(np.sin(x)*(np.cos(x)**2))\n",
    "    return ans  "
   ]
  },
  {
   "cell_type": "code",
   "execution_count": 3,
   "metadata": {},
   "outputs": [],
   "source": [
    "def teta_2(a):\n",
    "    ans=[]\n",
    "    for x in a:\n",
    "        ans.append(np.sin(x)*np.cos(x))\n",
    "    return ans "
   ]
  },
  {
   "cell_type": "code",
   "execution_count": 5,
   "metadata": {},
   "outputs": [
    {
     "name": "stdout",
     "output_type": "stream",
     "text": [
      "Central Mass is in (0 x hat + 0 y hat +  0.066650725615014 z hat)  Error is : 0.0012545507298122164\n",
      "creation time:  226.3245199\n"
     ]
    }
   ],
   "source": [
    "run=100\n",
    "n=100000\n",
    "cm=[] #centre of mass (0,0,z)\n",
    "start = timeit.default_timer()\n",
    "for i in range (run) :\n",
    "    fi_mean=np.mean(np.random.uniform(0,2*math.pi,n))\n",
    "    teta=np.random.uniform(0,math.pi,n)\n",
    "    r=np.random.uniform(0,1,n)\n",
    "    t1_mean=np.mean(np.array(teta_1(teta)))\n",
    "    t2_mean=np.mean(np.array(teta_2(teta)))\n",
    "    r1_mean=np.mean(np.power(r,4))\n",
    "    r2_mean=np.mean(np.power(r,3))\n",
    "    I=(r1_mean*t1_mean*math.pi*fi_mean*2*math.pi/4)+(3*r2_mean*t2_mean*math.pi*fi_mean*2*math.pi/4)\n",
    "    # mass calculation\n",
    "    m1=np.mean(np.power(r,2))\n",
    "    m2=np.mean(np.sin(teta))\n",
    "    M=(fi_mean*2*math.pi*r2_mean*t2_mean*math.pi/4)+(3*fi_mean*2*math.pi*m1*m2*math.pi/4)\n",
    "    cm.append(I/M)\n",
    "cm_mean=np.mean(np.array(cm))\n",
    "Error=np.sqrt(np.var(np.array(cm)))\n",
    "stop = timeit.default_timer()\n",
    "print('Central Mass is in (0 x hat + 0 y hat + ',cm_mean,'z hat)',' Error is :',Error)\n",
    "print('creation time: ', stop - start) "
   ]
  },
  {
   "cell_type": "code",
   "execution_count": null,
   "metadata": {},
   "outputs": [],
   "source": []
  }
 ],
 "metadata": {
  "kernelspec": {
   "display_name": "Python 3",
   "language": "python",
   "name": "python3"
  },
  "language_info": {
   "codemirror_mode": {
    "name": "ipython",
    "version": 3
   },
   "file_extension": ".py",
   "mimetype": "text/x-python",
   "name": "python",
   "nbconvert_exporter": "python",
   "pygments_lexer": "ipython3",
   "version": "3.8.3"
  }
 },
 "nbformat": 4,
 "nbformat_minor": 4
}
