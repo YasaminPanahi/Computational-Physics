{
 "cells": [
  {
   "cell_type": "code",
   "execution_count": 1,
   "metadata": {},
   "outputs": [],
   "source": [
    "import numpy as np\n",
    "import matplotlib.animation\n",
    "import matplotlib.pyplot as plt\n",
    "import random\n",
    "from IPython.display import HTML\n",
    "from matplotlib import animation\n",
    "import timeit"
   ]
  },
  {
   "cell_type": "code",
   "execution_count": 2,
   "metadata": {},
   "outputs": [],
   "source": [
    "def energy(sigma, J, H):\n",
    "    ''' Calculate lattice Energy from Hamiltonian\n",
    "        E = -J * sum(S(i)*S(j);i^j) - H * sum(S(j);j)\n",
    "     Parameters\n",
    "     ----------\n",
    "     sigma : Full lattice that includes boundaries\n",
    "     H : External field\n",
    "     J : Interaction \n",
    "    '''\n",
    "    return (-J * np.sum(sigma[:-1,:] * sigma[1:,:]) + -J * np.sum(sigma[:,:-1] * sigma[:,1:]) + -H * np.sum(sigma))"
   ]
  },
  {
   "cell_type": "code",
   "execution_count": 3,
   "metadata": {},
   "outputs": [],
   "source": [
    "def setBoundary(sigma):\n",
    "    sigma[0,:]  = sigma[-1,:]\n",
    "    sigma[-1,:] = sigma[-2,:]\n",
    "    sigma[:,0]  = sigma[1,:]\n",
    "    sigma[:,-1] = sigma[2,:]\n",
    "    return"
   ]
  },
  {
   "cell_type": "code",
   "execution_count": 4,
   "metadata": {},
   "outputs": [],
   "source": [
    "def mcflip_sublat(sigma,a,b, J, H):\n",
    "    \"\"\"Update on sublattices defined by and randomly flip with probability\n",
    "    set by the relative Gibbs weight.\"\"\"\n",
    "    \n",
    "    # localH acts on the bulk sublattice which is defined by the slice\n",
    "    # sigma[1+a:-1:2, 1+b:-1:2]\n",
    "    Lx, Ly = sigma.shape\n",
    "    localH = H* sigma[1+a:-1:2, 1+b:-1:2] + J * sigma[1+a:-1:2, 1+b:-1:2]*(\n",
    "            sigma[2+a:   :2, 1+b: -1:2] + # to the right\n",
    "            sigma[  a: -2:2, 1+b: -1:2] + # to the left\n",
    "            sigma[1+a: -1:2, 2+b:   :2] + # up\n",
    "            sigma[1+a: -1:2,   b: -2:2]   # down \n",
    "            )\n",
    "    \n",
    "    #metropolis probability:\n",
    "    p = np.exp(-2 * localH)\n",
    "    sigma[1+a:-1:2, 1+b:-1:2] *= -1 * (2*(np.random.rand(Lx//2-1,Ly//2-1) < p) - 1)          \n",
    "    return"
   ]
  },
  {
   "cell_type": "code",
   "execution_count": 5,
   "metadata": {},
   "outputs": [],
   "source": [
    "#flips the spins and sets the periodic boundaries\n",
    "def mcflip(sigma, J, H):\n",
    "    setBoundary(sigma)\n",
    "    mcflip_sublat(sigma,0,0, J, H)\n",
    "    setBoundary(sigma)  \n",
    "    mcflip_sublat(sigma,1,0, J, H)\n",
    "    setBoundary(sigma)  \n",
    "    mcflip_sublat(sigma,0,1, J, H)\n",
    "    setBoundary(sigma)  \n",
    "    mcflip_sublat(sigma,1,1, J, H)\n",
    "    setBoundary(sigma)  \n",
    "    return"
   ]
  },
  {
   "cell_type": "code",
   "execution_count": 6,
   "metadata": {},
   "outputs": [],
   "source": [
    "def acf(x, length=20):\n",
    "    ''' Auto Correlation Function'''\n",
    "    return np.array([1]+[np.corrcoef(x[:-i], x[i:])[0,1]  \\\n",
    "    for i in range(1, length)])"
   ]
  },
  {
   "cell_type": "code",
   "execution_count": 7,
   "metadata": {},
   "outputs": [],
   "source": [
    "def tp_corr(sigma,n,length=50):#two point correlation function \n",
    "    L=len(sigma)\n",
    "    C=[]\n",
    "    for i in range(1,length):\n",
    "        Xi=[]\n",
    "        Xj=[]\n",
    "        for j in range(n):\n",
    "            x=np.random.randint(0,L)\n",
    "            y=np.random.randint(0,L)\n",
    "            Xi+=[sigma[x][y]]\n",
    "            Xj+=[sigma[x][(y+i)%L]]\n",
    "        Xi=np.array(Xi)\n",
    "        Xj=np.array(Xj)\n",
    "        C+=[(np.mean(Xi*Xj)-np.mean(Xi)*np.mean(Xj))/np.var(Xi)]     \n",
    "    return C"
   ]
  },
  {
   "cell_type": "code",
   "execution_count": 8,
   "metadata": {},
   "outputs": [],
   "source": [
    "def corr_len(auto_corr):\n",
    "    for i, ac in enumerate(auto_corr):\n",
    "        if (np.abs(ac - (1/np.e)) <= 0.005) and (np.abs(ac - (1/np.e)) < np.abs(auto_corr[(i+1)%len(auto_corr)] - (1/np.e))):\n",
    "            return "
   ]
  },
  {
   "cell_type": "code",
   "execution_count": 9,
   "metadata": {},
   "outputs": [],
   "source": [
    "def magnetization(sigma):\n",
    "    return np.mean(sigma[1:-1,1:-1]) # exclude boundary spins"
   ]
  },
  {
   "cell_type": "code",
   "execution_count": 10,
   "metadata": {},
   "outputs": [],
   "source": [
    "def runSample(nSteps = 10000, subSample = 10):\n",
    "    \"\"\"Run nSteps Monte Carlo sweeps on the 2D Ising model.\n",
    "       Does not initialize the sample so can be called sequentially without\n",
    "       reinitialization if desired.\n",
    "   \n",
    "       Returns:\n",
    "           histMag -- array of magnetizations at every subSample timesteps\n",
    "           histEn  -- array of energies at every subSample timesteps\n",
    "   \"\"\"\n",
    "   \n",
    "   # create lists to grow\n",
    "    histMag = []\n",
    "    histEn = []\n",
    "        \n",
    "    for t in range(nSteps):\n",
    "        mcflip(sigma, J, H)\n",
    "                 \n",
    "        if t % subSample == 0:\n",
    "            histMag.append(magnetization(sigma))\n",
    "            histEn.append(energy(sigma, J, H))\n",
    "    # return as arrays\n",
    "    return (np.array(histMag), np.array(histEn))"
   ]
  },
  {
   "cell_type": "code",
   "execution_count": 11,
   "metadata": {},
   "outputs": [],
   "source": [
    "def run_sample_ksi(nSteps,subSample):\n",
    "    \"\"\"this function takes samples to calculate the positional correlation length \n",
    "       using the functions tp_corr\n",
    "    \"\"\"\n",
    "    histksi = []\n",
    "    for t in range(nSteps):\n",
    "        mcflip(sigma, J, H)    \n",
    "        if t % subSample == 0:\n",
    "            ksi=corr_len(tp_corr(sigma,50,length=20))\n",
    "            if ksi is not None: \n",
    "                histksi.append(ksi)\n",
    "            else:\n",
    "                histksi.append(0)\n",
    "    # return as arrays\n",
    "    return np.array(histksi)"
   ]
  },
  {
   "cell_type": "code",
   "execution_count": 11,
   "metadata": {},
   "outputs": [],
   "source": [
    "def Generate(sigma,J,H):\n",
    "    '''\n",
    "    this function is the automatic data creator from our simulation\n",
    "    it takes 6000 samples at first, dumps the first 2000 and then goes on with the method \n",
    "    explained in the report to sample efficiently and with good quality\n",
    "    '''\n",
    "    Mag0, En0= runSample(6000,1) \n",
    "    ac = acf(Mag0[2000:],length=900)\n",
    "    step = corr_len(ac)\n",
    "    Mag, En = Mag0[2000::step], En0[2000::step]\n",
    "    if step is None:                              #when step is less than 1 we set step=1\n",
    "        step=1              \n",
    "    if 1000//step < 100:                          #when step is big we get more data \n",
    "        Mag0, En0=runSample((500*step-1000),step)\n",
    "        Mag = np.append(Mag,Mag0)\n",
    "        En = np.append(En,En0)\n",
    "     \n",
    "   \n",
    "    return(Mag, En, step)"
   ]
  },
  {
   "cell_type": "code",
   "execution_count": 12,
   "metadata": {},
   "outputs": [],
   "source": [
    "Jcrit = np.log(1+np.sqrt(2.))/2 # J in Critical temperatur"
   ]
  },
  {
   "cell_type": "code",
   "execution_count": 13,
   "metadata": {},
   "outputs": [],
   "source": [
    "lx=100\n",
    "ly=100\n",
    "J=Jcrit\n",
    "H=0\n",
    "M=[]\n",
    "sigma=np.random.choice([1,-1],size=(lx,ly))\n",
    "for i in range (6000) :\n",
    "    mcflip(sigma,J,H)\n",
    "    M.append(magnetization(sigma))"
   ]
  },
  {
   "cell_type": "markdown",
   "metadata": {},
   "source": [
    "برای اجرای انیمیشن، همه کامنت ها را بردارید"
   ]
  },
  {
   "cell_type": "code",
   "execution_count": 18,
   "metadata": {},
   "outputs": [],
   "source": [
    "#fig = plt.figure(figsize=(8,8)) \n",
    "#plt.title('Ising model for lattice size = 100 * 100 in J = J_critical') \n",
    "#im = plt.imshow(sigma, vmin = -1, vmax = 1)\n",
    "#def animate(i):\n",
    "    #mcflip(sigma,Jcrit, H)\n",
    "    #im.set_data(sigma)\n",
    "    #return\n",
    "  \n",
    "#ani = matplotlib.animation.FuncAnimation(fig, animate, frames=1000, interval=1000/30)\n",
    "\n",
    "#from IPython.display import HTML\n",
    "#HTML(ani.to_jshtml())"
   ]
  },
  {
   "cell_type": "code",
   "execution_count": 15,
   "metadata": {},
   "outputs": [],
   "source": [
    "lx=100\n",
    "ly=100\n",
    "J=Jcrit * 1.5\n",
    "H=0\n",
    "M=[]\n",
    "sigma=np.random.choice([1,-1],size=(lx,ly))\n",
    "for i in range (6000) :\n",
    "    mcflip(sigma,J,H)\n",
    "    M.append(magnetization(sigma))"
   ]
  },
  {
   "cell_type": "code",
   "execution_count": 17,
   "metadata": {},
   "outputs": [],
   "source": [
    "#fig = plt.figure(figsize=(8,8))\n",
    "#plt.title('Ising model for lattice size = 100 * 100 in J = 1.5 * J_critical') \n",
    "#im = plt.imshow(sigma, vmin = -1, vmax = 1)\n",
    "#def animate(i):\n",
    "    #mcflip(sigma,J, H)\n",
    "    #im.set_data(sigma)\n",
    "    #return\n",
    "  \n",
    "#ani = matplotlib.animation.FuncAnimation(fig, animate, frames=1000, interval=1000/30)\n",
    "\n",
    "#from IPython.display import HTML\n",
    "#HTML(ani.to_jshtml())"
   ]
  },
  {
   "cell_type": "code",
   "execution_count": 19,
   "metadata": {},
   "outputs": [],
   "source": [
    "lx=100\n",
    "ly=100\n",
    "J=Jcrit * 0.5\n",
    "H=0\n",
    "M=[]\n",
    "sigma=np.random.choice([1,-1],size=(lx,ly))\n",
    "for i in range (6000) :\n",
    "    mcflip(sigma,J,H)\n",
    "    M.append(magnetization(sigma))"
   ]
  },
  {
   "cell_type": "code",
   "execution_count": 20,
   "metadata": {},
   "outputs": [],
   "source": [
    "#fig = plt.figure(figsize=(8,8))\n",
    "#plt.title('Ising model for lattice size = 100 * 100 in J = 0.5 * J_critical') \n",
    "#im = plt.imshow(sigma, vmin = -1, vmax = 1)\n",
    "#def animate(i):\n",
    "    \n",
    "    #mcflip(sigma,J, H)\n",
    "    #im.set_data(sigma)\n",
    "    #return\n",
    "  \n",
    "#ani = matplotlib.animation.FuncAnimation(fig, animate, frames=1000, interval=1000/30)\n",
    "\n",
    "#from IPython.display import HTML\n",
    "#HTML(ani.to_jshtml())"
   ]
  },
  {
   "cell_type": "code",
   "execution_count": 21,
   "metadata": {},
   "outputs": [],
   "source": [
    "lx=100\n",
    "ly=100\n",
    "J=Jcrit * 0.2\n",
    "H=0\n",
    "M=[]\n",
    "sigma=np.random.choice([1,-1],size=(lx,ly))\n",
    "for i in range (6000) :\n",
    "    mcflip(sigma,J,H)\n",
    "    M.append(magnetization(sigma))"
   ]
  },
  {
   "cell_type": "code",
   "execution_count": 22,
   "metadata": {},
   "outputs": [],
   "source": [
    "#fig = plt.figure(figsize=(8,8))\n",
    "#plt.title('Ising model for lattice size = 100 * 100 in J = 0.2 * J_critical') \n",
    "#im = plt.imshow(sigma, vmin = -1, vmax = 1)\n",
    "#def animate(i):\n",
    "    #mcflip(sigma,J, H)\n",
    "    #im.set_data(sigma)\n",
    "    #return\n",
    "  \n",
    "#ani = matplotlib.animation.FuncAnimation(fig, animate, frames=1000, interval=1000/30)\n",
    "\n",
    "#from IPython.display import HTML\n",
    "#HTML(ani.to_jshtml())"
   ]
  },
  {
   "cell_type": "code",
   "execution_count": null,
   "metadata": {},
   "outputs": [],
   "source": []
  }
 ],
 "metadata": {
  "kernelspec": {
   "display_name": "Python 3",
   "language": "python",
   "name": "python3"
  },
  "language_info": {
   "codemirror_mode": {
    "name": "ipython",
    "version": 3
   },
   "file_extension": ".py",
   "mimetype": "text/x-python",
   "name": "python",
   "nbconvert_exporter": "python",
   "pygments_lexer": "ipython3",
   "version": "3.8.3"
  }
 },
 "nbformat": 4,
 "nbformat_minor": 4
}
