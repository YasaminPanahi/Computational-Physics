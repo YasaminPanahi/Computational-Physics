{
 "cells": [
  {
   "cell_type": "code",
   "execution_count": 1,
   "metadata": {},
   "outputs": [],
   "source": [
    "import numpy as np\n",
    "import matplotlib.animation\n",
    "import matplotlib.pyplot as plt\n",
    "import random\n",
    "from IPython.display import HTML\n",
    "from matplotlib import animation\n",
    "import timeit"
   ]
  },
  {
   "cell_type": "markdown",
   "metadata": {},
   "source": [
    "Functions involving dynamics of lattice"
   ]
  },
  {
   "cell_type": "code",
   "execution_count": 2,
   "metadata": {},
   "outputs": [],
   "source": [
    "def energy(sigma, J, H):\n",
    "    ''' Calculate lattice Energy from Hamiltonian\n",
    "        E = -J * sum(S(i)*S(j);i^j) - H * sum(S(j);j)\n",
    "     Parameters\n",
    "     ----------\n",
    "     sigma : Full lattice that includes boundaries\n",
    "     H : External field\n",
    "     J : Interaction \n",
    "    '''\n",
    "    return (-J * np.sum(sigma[:-1,:] * sigma[1:,:]) + -J * np.sum(sigma[:,:-1] * sigma[:,1:]) + -H * np.sum(sigma))"
   ]
  },
  {
   "cell_type": "code",
   "execution_count": 3,
   "metadata": {},
   "outputs": [],
   "source": [
    "def setBoundary(sigma):\n",
    "    sigma[0,:]  = sigma[-1,:]\n",
    "    sigma[-1,:] = sigma[-2,:]\n",
    "    sigma[:,0]  = sigma[1,:]\n",
    "    sigma[:,-1] = sigma[2,:]\n",
    "    return"
   ]
  },
  {
   "cell_type": "code",
   "execution_count": 4,
   "metadata": {},
   "outputs": [],
   "source": [
    "def mcflip_sublat(sigma,a,b, J, H):\n",
    "    \"\"\"Update on sublattices defined by and randomly flip with probability\n",
    "    set by the relative Gibbs weight.\"\"\"\n",
    "    \n",
    "    # localH acts on the bulk sublattice which is defined by the slice\n",
    "    # sigma[1+a:-1:2, 1+b:-1:2]\n",
    "    Lx, Ly = sigma.shape\n",
    "    localH = H* sigma[1+a:-1:2, 1+b:-1:2] + J * sigma[1+a:-1:2, 1+b:-1:2]*(\n",
    "            sigma[2+a:   :2, 1+b: -1:2] + # to the right\n",
    "            sigma[  a: -2:2, 1+b: -1:2] + # to the left\n",
    "            sigma[1+a: -1:2, 2+b:   :2] + # up\n",
    "            sigma[1+a: -1:2,   b: -2:2]   # down \n",
    "            )\n",
    "    \n",
    "    #metropolis probability:\n",
    "    p = np.exp(-2 * localH)\n",
    "    sigma[1+a:-1:2, 1+b:-1:2] *= -1 * (2*(np.random.rand(Lx//2-1,Ly//2-1) < p) - 1)          \n",
    "    return"
   ]
  },
  {
   "cell_type": "code",
   "execution_count": 5,
   "metadata": {},
   "outputs": [],
   "source": [
    "#flips the spins and sets the periodic boundaries\n",
    "def mcflip(sigma, J, H):\n",
    "    setBoundary(sigma)\n",
    "    mcflip_sublat(sigma,0,0, J, H)\n",
    "    setBoundary(sigma)  \n",
    "    mcflip_sublat(sigma,1,0, J, H)\n",
    "    setBoundary(sigma)  \n",
    "    mcflip_sublat(sigma,0,1, J, H)\n",
    "    setBoundary(sigma)  \n",
    "    mcflip_sublat(sigma,1,1, J, H)\n",
    "    setBoundary(sigma)  \n",
    "    return"
   ]
  },
  {
   "cell_type": "markdown",
   "metadata": {},
   "source": [
    "Correlation Functions"
   ]
  },
  {
   "cell_type": "code",
   "execution_count": 6,
   "metadata": {},
   "outputs": [],
   "source": [
    "def acf(x, length=20):\n",
    "    ''' Auto Correlation Function'''\n",
    "    return np.array([1]+[np.corrcoef(x[:-i], x[i:])[0,1]  \\\n",
    "    for i in range(1, length)])"
   ]
  },
  {
   "cell_type": "code",
   "execution_count": 7,
   "metadata": {},
   "outputs": [],
   "source": [
    "def tp_corr(sigma,n,length=50):#two point correlation function \n",
    "    L=len(sigma)\n",
    "    C=[]\n",
    "    for i in range(1,length):\n",
    "        Xi=[]\n",
    "        Xj=[]\n",
    "        for j in range(n):\n",
    "            x=np.random.randint(0,L)\n",
    "            y=np.random.randint(0,L)\n",
    "            Xi+=[sigma[x][y]]\n",
    "            Xj+=[sigma[x][(y+i)%L]]\n",
    "        Xi=np.array(Xi)\n",
    "        Xj=np.array(Xj)\n",
    "        C+=[(np.mean(Xi*Xj)-np.mean(Xi)*np.mean(Xj))/np.var(Xi)]     \n",
    "    return C"
   ]
  },
  {
   "cell_type": "code",
   "execution_count": 8,
   "metadata": {},
   "outputs": [],
   "source": [
    "def corr_len(auto_corr):\n",
    "    for i, ac in enumerate(auto_corr):\n",
    "        if (np.abs(ac - (1/np.e)) <= 0.005) and (np.abs(ac - (1/np.e)) < np.abs(auto_corr[(i+1)%len(auto_corr)] - (1/np.e))):\n",
    "            return i"
   ]
  },
  {
   "cell_type": "markdown",
   "metadata": {},
   "source": [
    "Sampling functions"
   ]
  },
  {
   "cell_type": "code",
   "execution_count": 18,
   "metadata": {},
   "outputs": [],
   "source": [
    "def magnetization(sigma):\n",
    "    return np.mean(sigma[1:-1,1:-1]) # exclude boundary spins"
   ]
  },
  {
   "cell_type": "code",
   "execution_count": 19,
   "metadata": {},
   "outputs": [],
   "source": [
    "def runSample(nSteps = 10000, subSample = 10):\n",
    "    \"\"\"Run nSteps Monte Carlo sweeps on the 2D Ising model.\n",
    "       Does not initialize the sample so can be called sequentially without\n",
    "       reinitialization if desired.\n",
    "   \n",
    "       Returns:\n",
    "           histMag -- array of magnetizations at every subSample timesteps\n",
    "           histEn  -- array of energies at every subSample timesteps\n",
    "   \"\"\"\n",
    "   \n",
    "   # create lists to grow\n",
    "    histMag = []\n",
    "    histEn = []\n",
    "        \n",
    "    for t in range(nSteps):\n",
    "        mcflip(sigma, J, H)\n",
    "                 \n",
    "        if t % subSample == 0:\n",
    "            histMag.append(magnetization(sigma))\n",
    "            histEn.append(energy(sigma, J, H))\n",
    "    # return as arrays\n",
    "    return (np.array(histMag), np.array(histEn))"
   ]
  },
  {
   "cell_type": "code",
   "execution_count": 20,
   "metadata": {},
   "outputs": [],
   "source": [
    "def run_sample_ksi(nSteps,subSample):\n",
    "    \"\"\"this function takes samples to calculate the positional correlation length \n",
    "       using the functions tp_corr\n",
    "    \"\"\"\n",
    "    histksi = []\n",
    "    for t in range(nSteps):\n",
    "        mcflip(sigma, J, H)    \n",
    "        if t % subSample == 0:\n",
    "            ksi=corr_len(tp_corr(sigma,50,length=20))\n",
    "            if ksi is not None: \n",
    "                histksi.append(ksi)\n",
    "            else:\n",
    "                histksi.append(0)\n",
    "    # return as arrays\n",
    "    return np.array(histksi)"
   ]
  },
  {
   "cell_type": "code",
   "execution_count": 21,
   "metadata": {},
   "outputs": [],
   "source": [
    "def Generate(sigma,J,H):\n",
    "    '''\n",
    "    this function is the automatic data creator from our simulation\n",
    "    it takes 6000 samples at first, dumps the first 2000 and then goes on with the method \n",
    "    explained in the report to sample efficiently and with good quality\n",
    "    '''\n",
    "    Mag0, En0= runSample(6000,1) \n",
    "    ac = acf(Mag0[2000:],length=900)\n",
    "    step = corr_len(ac)\n",
    "    Mag, En = Mag0[2000::step], En0[2000::step]\n",
    "    if step is None:                              #when step is less than 1 we set step=1\n",
    "        step=1              \n",
    "    if 1000//step < 100:                          #when step is big we get more data \n",
    "        Mag0, En0=runSample((500*step-1000),step)\n",
    "        Mag = np.append(Mag,Mag0)\n",
    "        En = np.append(En,En0)\n",
    "     \n",
    "   \n",
    "    return(Mag, En, step)"
   ]
  },
  {
   "cell_type": "markdown",
   "metadata": {},
   "source": [
    "Simulation"
   ]
  },
  {
   "cell_type": "code",
   "execution_count": 22,
   "metadata": {},
   "outputs": [],
   "source": [
    "Jcrit = np.log(1+np.sqrt(2.))/2 # J in Critical temperatur"
   ]
  },
  {
   "cell_type": "code",
   "execution_count": 23,
   "metadata": {},
   "outputs": [
    {
     "data": {
      "text/plain": [
       "0.44068679350977147"
      ]
     },
     "execution_count": 23,
     "metadata": {},
     "output_type": "execute_result"
    }
   ],
   "source": [
    "Jcrit"
   ]
  },
  {
   "cell_type": "code",
   "execution_count": 24,
   "metadata": {},
   "outputs": [],
   "source": [
    "lx=100\n",
    "ly=100\n",
    "J=Jcrit*1.5 # T < Tc\n",
    "H=0\n",
    "M=[]\n",
    "sigma=np.random.choice([1,-1],size=(lx,ly))\n",
    "for i in range (6000) :\n",
    "    mcflip(sigma,J,H)\n",
    "    M.append(magnetization(sigma))"
   ]
  },
  {
   "cell_type": "code",
   "execution_count": 25,
   "metadata": {},
   "outputs": [
    {
     "data": {
      "image/png": "[encoded data removed]",
      "text/plain": [
       "<Figure size 576x576 with 1 Axes>"
      ]
     },
     "metadata": {
      "needs_background": "light"
     },
     "output_type": "display_data"
    }
   ],
   "source": [
    "fig = plt.figure(figsize=(8,8))\n",
    "plt.plot(M,'.b-',markersize=0.1)\n",
    "plt.title(\"initial condition :random , 6000 flip , J =0.66\")\n",
    "plt.xlabel('time(Monte Carlo step)')\n",
    "plt.ylabel('Magnetization')\n",
    "plt.tick_params(labelsize=12)\n",
    "plt.grid()"
   ]
  },
  {
   "cell_type": "code",
   "execution_count": 53,
   "metadata": {},
   "outputs": [
    {
     "name": "stdout",
     "output_type": "stream",
     "text": [
      "creation time : 674.5298430000003\n"
     ]
    }
   ],
   "source": [
    "start=timeit.default_timer()\n",
    "listt1=[0.438,0.439,0.440,0.4405,0.4408,0.441,0.4415,0.442,0.443,0.444,0.445,0.448,0.45]\n",
    "Mlist1=[]\n",
    "Elist1=[]\n",
    "Xilist1=[]\n",
    "Cvlist1=[]\n",
    "lx, ly = 100, 100\n",
    "sigma = np.random.choice([-1,1],size=(lx+2,ly+2),p=[0.5,0.5])\n",
    "for a in listt1:\n",
    "    J = a #Interaction\n",
    "    H = 0 #External field\n",
    "    # make the initial 'full lattice'\n",
    "    \n",
    "    M, E,Step = Generate(sigma,J,H)\n",
    "    Mlist1+=[np.mean(M)]\n",
    "    Elist1+=[np.mean(E)]\n",
    "    Xilist1+=[np.var(M)]\n",
    "    Cvlist1+=[np.var(E)]\n",
    "stop=timeit.default_timer()\n",
    "print('creation time :',stop-start) "
   ]
  },
  {
   "cell_type": "code",
   "execution_count": 55,
   "metadata": {},
   "outputs": [
    {
     "name": "stdout",
     "output_type": "stream",
     "text": [
      "creation time : 993.4187053999995\n"
     ]
    }
   ],
   "source": [
    "start=timeit.default_timer()\n",
    "listt2=[0.438,0.439,0.440,0.4405,0.4408,0.441,0.4415,0.442,0.443,0.444,0.445,0.448,0.45]\n",
    "Mlist2=[]\n",
    "Elist2=[]\n",
    "Xilist2=[]\n",
    "Cvlist2=[]\n",
    "lx, ly = 120, 120\n",
    "sigma = np.random.choice([-1,1],size=(lx+2,ly+2),p=[0.5,0.5])\n",
    "for a in listt2:\n",
    "    J = a #Interaction\n",
    "    H = 0 #External field\n",
    "    # make the initial 'full lattice'\n",
    "    \n",
    "    M, E,Step = Generate(sigma,J,H)\n",
    "    Mlist2+=[np.mean(M)]\n",
    "    Elist2+=[np.mean(E)]\n",
    "    Xilist2+=[np.var(M)]\n",
    "    Cvlist2+=[np.var(E)]\n",
    "stop=timeit.default_timer()\n",
    "print('creation time :',stop-start)"
   ]
  },
  {
   "cell_type": "code",
   "execution_count": 56,
   "metadata": {},
   "outputs": [
    {
     "name": "stdout",
     "output_type": "stream",
     "text": [
      "creation time : 1482.4034544999995\n"
     ]
    }
   ],
   "source": [
    "start=timeit.default_timer()\n",
    "listt3=[0.438,0.439,0.440,0.4405,0.4408,0.441,0.4415,0.442,0.443,0.444,0.445,0.448,0.45]\n",
    "Mlist3=[]\n",
    "Elist3=[]\n",
    "Xilist3=[]\n",
    "Cvlist3=[]\n",
    "lx, ly = 160, 160\n",
    "sigma = np.random.choice([-1,1],size=(lx+2,ly+2),p=[0.5,0.5])\n",
    "for a in listt3:\n",
    "    J = a #Interaction\n",
    "    H = 0 #External field\n",
    "    # make the initial 'full lattice'\n",
    "    \n",
    "    M, E,Step = Generate(sigma,J,H)\n",
    "    Mlist3+=[np.mean(M)]\n",
    "    Elist3+=[np.mean(E)]\n",
    "    Xilist3+=[np.var(M)]\n",
    "    Cvlist3+=[np.var(E)]\n",
    "stop=timeit.default_timer()\n",
    "print('creation time :',stop-start) "
   ]
  },
  {
   "cell_type": "code",
   "execution_count": 57,
   "metadata": {},
   "outputs": [
    {
     "name": "stdout",
     "output_type": "stream",
     "text": [
      "creation time : 2646.554360599999\n"
     ]
    }
   ],
   "source": [
    "start=timeit.default_timer()\n",
    "listt4=[0.438,0.439,0.440,0.4405,0.4408,0.441,0.4415,0.442,0.443,0.444,0.445,0.448,0.45]\n",
    "Mlist4=[]\n",
    "Elist4=[]\n",
    "Xilist4=[]\n",
    "Cvlist4=[]\n",
    "lx, ly = 220, 220\n",
    "sigma = np.random.choice([-1,1],size=(lx+2,ly+2),p=[0.5,0.5])\n",
    "for a in listt4:\n",
    "    J = a #Interaction\n",
    "    H = 0 #External field\n",
    "    # make the initial 'full lattice'\n",
    "    \n",
    "    M, E,Step = Generate(sigma,J,H)\n",
    "    Mlist4+=[np.mean(M)]\n",
    "    Elist4+=[np.mean(E)]\n",
    "    Xilist4+=[np.var(M)]\n",
    "    Cvlist4+=[np.var(E)]\n",
    "stop=timeit.default_timer()\n",
    "print('creation time :',stop-start)  "
   ]
  },
  {
   "cell_type": "code",
   "execution_count": 58,
   "metadata": {},
   "outputs": [
    {
     "name": "stdout",
     "output_type": "stream",
     "text": [
      "creation time : 3759.1838422\n"
     ]
    }
   ],
   "source": [
    "start=timeit.default_timer()\n",
    "listt5=[0.438,0.439,0.440,0.4405,0.4408,0.441,0.4415,0.442,0.443,0.444,0.445,0.448,0.45]\n",
    "Mlist5=[]\n",
    "Elist5=[]\n",
    "Xilist5=[]\n",
    "Cvlist5=[]\n",
    "lx, ly = 300, 300\n",
    "sigma = np.random.choice([-1,1],size=(lx+2,ly+2),p=[0.5,0.5])\n",
    "for a in listt5:\n",
    "    J = a #Interaction\n",
    "    H = 0 #External field\n",
    "    # make the initial 'full lattice'\n",
    "    \n",
    "    M, E,Step = Generate(sigma,J,H)\n",
    "    Mlist5+=[np.mean(M)]\n",
    "    Elist5+=[np.mean(E)]\n",
    "    Xilist5+=[np.var(M)]\n",
    "    Cvlist5+=[np.var(E)]\n",
    "stop=timeit.default_timer()\n",
    "print('creation time :',stop-start)  "
   ]
  },
  {
   "cell_type": "code",
   "execution_count": 219,
   "metadata": {},
   "outputs": [
    {
     "name": "stdout",
     "output_type": "stream",
     "text": [
      "creation time : 9365.692084899987\n"
     ]
    }
   ],
   "source": [
    "start=timeit.default_timer()\n",
    "listt6=[0.438,0.439,0.440,0.4405,0.4408,0.441,0.4415,0.442,0.443,0.444,0.445,0.448,0.45]\n",
    "Mlist6=[]\n",
    "Elist6=[]\n",
    "Xilist6=[]\n",
    "Cvlist6=[]\n",
    "lx, ly = 400, 400\n",
    "sigma = np.random.choice([-1,1],size=(lx+2,ly+2),p=[0.5,0.5])\n",
    "for a in listt6:\n",
    "    J = a #Interaction\n",
    "    H = 0 #External field\n",
    "    # make the initial 'full lattice'\n",
    "    \n",
    "    M, E,Step = Generate(sigma,J,H)\n",
    "    Mlist6+=[np.mean(M)]\n",
    "    Elist6+=[np.mean(E)]\n",
    "    Xilist6+=[np.var(M)]\n",
    "    Cvlist6+=[np.var(E)]\n",
    "stop=timeit.default_timer()\n",
    "print('creation time :',stop-start)  "
   ]
  },
  {
   "cell_type": "markdown",
   "metadata": {},
   "source": [
    "nu:"
   ]
  },
  {
   "cell_type": "code",
   "execution_count": 267,
   "metadata": {},
   "outputs": [],
   "source": [
    "JclistO= [listt1[np.argmax(Cvlist1)],listt2[np.argmax(Cvlist2)],listt3[np.argmax(Cvlist3)],listt4[np.argmax(Cvlist4)],listt5[np.argmax(Cvlist5)]]\n",
    "Jclist= [listt1[np.argmax(Cvlist1)],listt3[np.argmax(Cvlist3)],listt5[np.argmax(Cvlist5)]]\n",
    "L_list=[100,160,300]\n",
    "L_listO=[100,120,160,220,300]\n",
    "Jc_list = [np.abs(x - Jcrit) for x in Jclist]\n",
    "T_list = [np.abs(x**-1 - Jcrit**-1) for x in Jclist]\n",
    "T_listO = [np.abs(x**-1 - Jcrit**-1) for x in JclistO]"
   ]
  },
  {
   "cell_type": "code",
   "execution_count": 268,
   "metadata": {},
   "outputs": [],
   "source": [
    "fit=np.polyfit(np.log(L_list),np.log(T_list),1)"
   ]
  },
  {
   "cell_type": "code",
   "execution_count": 269,
   "metadata": {},
   "outputs": [
    {
     "name": "stdout",
     "output_type": "stream",
     "text": [
      "nu is 1.0481259726888392\n"
     ]
    },
    {
     "data": {
      "image/png": "[encoded data removed]",
      "text/plain": [
       "<Figure size 432x432 with 1 Axes>"
      ]
     },
     "metadata": {
      "needs_background": "light"
     },
     "output_type": "display_data"
    }
   ],
   "source": [
    "fig = plt.figure(figsize=(6,6))\n",
    "plt.xlabel(\"ln(L)\")\n",
    "plt.ylabel(\"ln(|Tc-T_inf|)\")\n",
    "plt.title(\"Simulation of ln(|Tc-T_inf|) vs Ln(L)\")\n",
    "plt.scatter(np.log(L_listO),np.log(T_listO),label='Simulated points for different lengths')\n",
    "plt.plot(np.log(L_list),np.log(L_list)*fit[0]+fit[1],color='r',label='line with equation: y='+str(round(fit[0], 2))+'x+'+str(round(fit[1],2)))\n",
    "plt.tick_params(labelsize=12)\n",
    "plt.legend(borderpad=1.5, labelspacing=1.5)\n",
    "plt.grid()\n",
    "nu = -(1/fit[0])\n",
    "print('nu is',nu)"
   ]
  },
  {
   "cell_type": "markdown",
   "metadata": {},
   "source": [
    "Beta:"
   ]
  },
  {
   "cell_type": "code",
   "execution_count": 270,
   "metadata": {},
   "outputs": [],
   "source": [
    "Mclist= [Mlist1[np.argmax(Cvlist1)],Mlist2[np.argmax(Cvlist2)],Mlist3[np.argmax(Cvlist3)],Mlist5[np.argmax(Cvlist5)]]\n",
    "Mclist=np.abs(Mclist)\n",
    "Lo_list=[100,120,160,300]\n",
    "MclistO= [Mlist1[np.argmax(Cvlist1)],Mlist2[np.argmax(Cvlist2)],Mlist3[np.argmax(Cvlist3)],Mlist4[np.argmax(Cvlist4)],Mlist5[np.argmax(Cvlist5)]]\n",
    "MclistO=np.abs(MclistO)"
   ]
  },
  {
   "cell_type": "code",
   "execution_count": 272,
   "metadata": {},
   "outputs": [],
   "source": [
    "fit=np.polyfit(np.log(Lo_list),np.log(Mclist),1)"
   ]
  },
  {
   "cell_type": "code",
   "execution_count": 273,
   "metadata": {},
   "outputs": [
    {
     "name": "stdout",
     "output_type": "stream",
     "text": [
      "beta is 0.11566089671682021\n"
     ]
    },
    {
     "data": {
      "image/png": "[encoded data removed]",
      "text/plain": [
       "<Figure size 432x432 with 1 Axes>"
      ]
     },
     "metadata": {
      "needs_background": "light"
     },
     "output_type": "display_data"
    }
   ],
   "source": [
    "fig = plt.figure(figsize=(6,6))\n",
    "plt.xlabel(\"ln (L)\")\n",
    "plt.ylabel(\"ln( |Mc| )\")\n",
    "plt.title(\"Simulation of ln( |Mc|) vs Ln(L)\")\n",
    "plt.scatter(np.log(L_listO),np.log(MclistO),label='Simulated points for different lengths')\n",
    "plt.plot(np.log(Lo_list),np.log(Lo_list)*fit[0]+fit[1],color='r',label='line with equation: y='+str(round(fit[0], 2))+'x+'+str(round(fit[1],2)))\n",
    "plt.tick_params(labelsize=10)\n",
    "plt.legend()\n",
    "plt.grid()\n",
    "beta = -(fit[0]*nu)\n",
    "print('beta is',beta)"
   ]
  },
  {
   "cell_type": "markdown",
   "metadata": {},
   "source": [
    "mio (or gamma):"
   ]
  },
  {
   "cell_type": "code",
   "execution_count": 280,
   "metadata": {},
   "outputs": [],
   "source": [
    "Xiclist= [Xilist1[np.argmax(Cvlist1)],Xilist4[np.argmax(Cvlist4)],Xilist5[np.argmax(Cvlist5)]]\n",
    "XiclistO= [Xilist1[np.argmax(Cvlist1)],Xilist2[np.argmax(Cvlist2)],Xilist3[np.argmax(Cvlist3)],Xilist4[np.argmax(Cvlist4)],Xilist5[np.argmax(Cvlist5)]]"
   ]
  },
  {
   "cell_type": "code",
   "execution_count": 281,
   "metadata": {},
   "outputs": [],
   "source": [
    "Lg_list=[100,220,300]\n",
    "fit=np.polyfit(np.log(Lg_list),np.log(Xiclist),1)"
   ]
  },
  {
   "cell_type": "code",
   "execution_count": 283,
   "metadata": {},
   "outputs": [
    {
     "name": "stdout",
     "output_type": "stream",
     "text": [
      "mio is 1.0192703638229141\n"
     ]
    },
    {
     "data": {
      "image/png": "[encoded data removed]",
      "text/plain": [
       "<Figure size 432x432 with 1 Axes>"
      ]
     },
     "metadata": {
      "needs_background": "light"
     },
     "output_type": "display_data"
    }
   ],
   "source": [
    "fig = plt.figure(figsize=(6,6))\n",
    "plt.xlabel(\"ln(L)\")\n",
    "plt.ylabel(\"ln(|Chi (critical)| )\")\n",
    "plt.title(\"Simulation of ln(|Chi (critical)| vs ln(L)\")\n",
    "plt.scatter(np.log(L_listO),np.log(XiclistO),label='Simulated points for different lengths')\n",
    "plt.plot(np.log(Lg_list),np.log(Lg_list)*fit[0]+fit[1],color='r',label='line with equation: y='+str(round(fit[0], 2))+'x+'+str(round(fit[1],2)))\n",
    "plt.tick_params(labelsize=10)\n",
    "plt.legend()\n",
    "plt.grid()\n",
    "mio = (fit[0]*nu)\n",
    "print('mio is',mio)"
   ]
  },
  {
   "cell_type": "markdown",
   "metadata": {},
   "source": [
    "C0"
   ]
  },
  {
   "cell_type": "code",
   "execution_count": 277,
   "metadata": {},
   "outputs": [],
   "source": [
    "Jclist2= [listt2[np.argmax(Cvlist2)],listt3[np.argmax(Cvlist3)],listt4[np.argmax(Cvlist4)],listt5[np.argmax(Cvlist5)]]\n",
    "Cvclist= [Cvlist2[np.argmax(Cvlist2)],Cvlist3[np.argmax(Cvlist3)],Cvlist4[np.argmax(Cvlist4)],Cvlist5[np.argmax(Cvlist5)]]\n",
    "Jc_list2 = [np.abs(x - Jcrit) for x in Jclist2]\n",
    "T_list2 = [np.abs(x**-1 - Jcrit**-1) for x in Jclist2]\n",
    "CvclistO= [Cvlist1[np.argmax(Cvlist1)],Cvlist2[np.argmax(Cvlist2)],Cvlist3[np.argmax(Cvlist3)],Cvlist4[np.argmax(Cvlist4)],Cvlist5[np.argmax(Cvlist5)]]"
   ]
  },
  {
   "cell_type": "code",
   "execution_count": 278,
   "metadata": {},
   "outputs": [],
   "source": [
    "fit=np.polyfit(np.log(T_list2),(Cvclist),1)"
   ]
  },
  {
   "cell_type": "code",
   "execution_count": 279,
   "metadata": {},
   "outputs": [
    {
     "name": "stdout",
     "output_type": "stream",
     "text": [
      "C0 is 122530.36289472034\n"
     ]
    },
    {
     "data": {
      "image/png": "[encoded data removed]",
      "text/plain": [
       "<Figure size 576x576 with 1 Axes>"
      ]
     },
     "metadata": {
      "needs_background": "light"
     },
     "output_type": "display_data"
    }
   ],
   "source": [
    "fig = plt.figure(figsize=(8,8))\n",
    "plt.xlabel(\"ln(|Tc-T_inf|)\")\n",
    "plt.ylabel(\"Cv\")\n",
    "plt.title(\"Simulation of Cv vs ln(|Tc-T_inf|)\")\n",
    "plt.scatter(np.log(T_listO),(CvclistO),label='Simulated points for different lengths')\n",
    "plt.plot(np.log(T_list2),np.log(T_list2)*fit[0]+fit[1],color='r',label='line with equation: y='+str(round(fit[0], 2))+'x+'+str(round(fit[1],2)))\n",
    "plt.tick_params(labelsize=10)\n",
    "plt.legend(borderpad=1.2, labelspacing=1.2)\n",
    "plt.grid()\n",
    "c0 = (fit[0])\n",
    "print('C0 is',c0)"
   ]
  },
  {
   "cell_type": "code",
   "execution_count": null,
   "metadata": {},
   "outputs": [],
   "source": []
  }
 ],
 "metadata": {
  "kernelspec": {
   "display_name": "Python 3",
   "language": "python",
   "name": "python3"
  },
  "language_info": {
   "codemirror_mode": {
    "name": "ipython",
    "version": 3
   },
   "file_extension": ".py",
   "mimetype": "text/x-python",
   "name": "python",
   "nbconvert_exporter": "python",
   "pygments_lexer": "ipython3",
   "version": "3.8.3"
  }
 },
 "nbformat": 4,
 "nbformat_minor": 4
}
